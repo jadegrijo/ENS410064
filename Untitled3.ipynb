{
 "cells": [
  {
   "cell_type": "markdown",
   "id": "94b46cfe-ce28-4ada-8cfc-a9ff7ffbd3ed",
   "metadata": {},
   "source": [
    "DADOS NUMÉRICOS"
   ]
  },
  {
   "cell_type": "code",
   "execution_count": 1,
   "id": "54a419a8-dcc5-42ab-bbb6-a27ec31ae7f2",
   "metadata": {},
   "outputs": [
    {
     "name": "stdout",
     "output_type": "stream",
     "text": [
      "Valor de a = 1\n"
     ]
    },
    {
     "data": {
      "text/plain": [
       "int"
      ]
     },
     "execution_count": 1,
     "metadata": {},
     "output_type": "execute_result"
    }
   ],
   "source": [
    "# Variável inteira\n",
    "a = 1 #Atribui a variavel a o valor de 1\n",
    "print('Valor de a = '+str(a))\n",
    "type(a)"
   ]
  },
  {
   "cell_type": "code",
   "execution_count": 2,
   "id": "1c3f7a2e-eb1e-4e2b-9516-fc70ca88d327",
   "metadata": {},
   "outputs": [
    {
     "name": "stdout",
     "output_type": "stream",
     "text": [
      "1.0\n"
     ]
    },
    {
     "data": {
      "text/plain": [
       "float"
      ]
     },
     "execution_count": 2,
     "metadata": {},
     "output_type": "execute_result"
    }
   ],
   "source": [
    "# Variável dupla precisão\n",
    "b = 1.0 #Atribui a variavel b o valor de 1.0 (ponto flutuante)\n",
    "print(b)\n",
    "type(b) #\"tipo da variavel b, no caso, float (ponto flutuante)"
   ]
  },
  {
   "cell_type": "code",
   "execution_count": 3,
   "id": "a93f8e96-ee8d-4681-809e-4e0912b98b43",
   "metadata": {},
   "outputs": [
    {
     "name": "stdout",
     "output_type": "stream",
     "text": [
      "1\n"
     ]
    },
    {
     "data": {
      "text/plain": [
       "int"
      ]
     },
     "execution_count": 3,
     "metadata": {},
     "output_type": "execute_result"
    }
   ],
   "source": [
    "# Converter float para int\n",
    "c = int(b) #atribuindo a variavel c o valor inteiro de b (converteu b ao numero inteiro e atribuiu essse valor a c\n",
    "print(c)\n",
    "type(c)"
   ]
  },
  {
   "cell_type": "code",
   "execution_count": 4,
   "id": "544506ad-b5b7-4516-982f-560ee4b45c4c",
   "metadata": {},
   "outputs": [
    {
     "name": "stdout",
     "output_type": "stream",
     "text": [
      "nan\n"
     ]
    },
    {
     "data": {
      "text/plain": [
       "float"
      ]
     },
     "execution_count": 4,
     "metadata": {},
     "output_type": "execute_result"
    }
   ],
   "source": [
    "# Delacrando nan\n",
    "import numpy as np #declarou que numpy é np (podemos escrever np em vez de numpy\n",
    "d = np.nan\n",
    "print(d)\n",
    "type(d)"
   ]
  },
  {
   "cell_type": "code",
   "execution_count": 5,
   "id": "a46ce3f9-dca6-4db7-944c-7e0ca9f3c619",
   "metadata": {},
   "outputs": [
    {
     "name": "stdout",
     "output_type": "stream",
     "text": [
      "nan\n",
      "nan\n",
      "1.0\n"
     ]
    }
   ],
   "source": [
    "# Operação com NaN\n",
    "e = d*1\n",
    "print(e)\n",
    "e = d+1\n",
    "print(e)\n",
    "e = np.nansum([d,1])\n",
    "print(e)"
   ]
  },
  {
   "cell_type": "markdown",
   "id": "730e3740-1160-49c9-a736-6da95573caf9",
   "metadata": {},
   "source": [
    "DADOS DE TEXTO"
   ]
  },
  {
   "cell_type": "code",
   "execution_count": 6,
   "id": "34f5cc06-9ab3-40d6-bcc2-e1e10d13f654",
   "metadata": {},
   "outputs": [
    {
     "name": "stdout",
     "output_type": "stream",
     "text": [
      "Fábio\n",
      "Gabriel\n",
      "FábioGabriel\n",
      "Fábio Gabriel\n"
     ]
    }
   ],
   "source": [
    "# Declaração de variável texto\n",
    "f = 'Fábio'\n",
    "g = \"Gabriel\"\n",
    "print(f)\n",
    "print(g)\n",
    "print(f+g)\n",
    "print(f+' '+g) #adicionou espaco entre \"gabriel\" e \"fabio\" na hora do print"
   ]
  },
  {
   "cell_type": "markdown",
   "id": "a4407001-abef-4654-ada0-565fbcb44529",
   "metadata": {},
   "source": [
    "DADOS TIPO BOOL -LÓGICA"
   ]
  },
  {
   "cell_type": "code",
   "execution_count": 8,
   "id": "9f7ad9ed-bb1f-4ac9-a8d3-457ceef8dc07",
   "metadata": {},
   "outputs": [
    {
     "data": {
      "text/plain": [
       "True"
      ]
     },
     "execution_count": 8,
     "metadata": {},
     "output_type": "execute_result"
    }
   ],
   "source": [
    "a == 1 #a vale 1?"
   ]
  },
  {
   "cell_type": "code",
   "execution_count": 9,
   "id": "a5219039-e8c8-4675-b867-a9ef137890d3",
   "metadata": {},
   "outputs": [
    {
     "name": "stdout",
     "output_type": "stream",
     "text": [
      "True\n"
     ]
    },
    {
     "data": {
      "text/plain": [
       "bool"
      ]
     },
     "execution_count": 9,
     "metadata": {},
     "output_type": "execute_result"
    }
   ],
   "source": [
    "h = (a==1) #Se a vale 1 for true, atribuir o valor de a para a variavel h\n",
    "print(h)\n",
    "type(h)"
   ]
  },
  {
   "cell_type": "code",
   "execution_count": 10,
   "id": "53b03621-1fe8-42db-9b24-be517702b807",
   "metadata": {},
   "outputs": [
    {
     "name": "stdout",
     "output_type": "stream",
     "text": [
      "False\n"
     ]
    },
    {
     "data": {
      "text/plain": [
       "bool"
      ]
     },
     "execution_count": 10,
     "metadata": {},
     "output_type": "execute_result"
    }
   ],
   "source": [
    "h = (a==2) #a vale 2? NÃO, false, entao não será atribuido o valor de a para a varia h\n",
    "print(h)\n",
    "type(h)"
   ]
  },
  {
   "cell_type": "code",
   "execution_count": 11,
   "id": "b7026f45-bedc-423c-acca-bee6744e64ad",
   "metadata": {},
   "outputs": [
    {
     "data": {
      "text/plain": [
       "bool"
      ]
     },
     "execution_count": 11,
     "metadata": {},
     "output_type": "execute_result"
    }
   ],
   "source": [
    "i = True\n",
    "type(i) #bool so pode ser true ou false"
   ]
  },
  {
   "cell_type": "code",
   "execution_count": 12,
   "id": "d6b39f1c-41bc-4de0-8805-293b39913742",
   "metadata": {},
   "outputs": [
    {
     "data": {
      "text/plain": [
       "str"
      ]
     },
     "execution_count": 12,
     "metadata": {},
     "output_type": "execute_result"
    }
   ],
   "source": [
    "ii = 'True' #atribui a variavel ii uma sting\n",
    "type(ii)"
   ]
  },
  {
   "cell_type": "markdown",
   "id": "938cdf10-8868-4dd9-8dc3-7451880c2ce7",
   "metadata": {},
   "source": [
    "OPERAÇÃO DE COMPARAÇÃO"
   ]
  },
  {
   "cell_type": "code",
   "execution_count": 13,
   "id": "b312bfb0-2346-4631-8fa4-296dc030b3aa",
   "metadata": {},
   "outputs": [
    {
     "data": {
      "text/plain": [
       "True"
      ]
     },
     "execution_count": 13,
     "metadata": {},
     "output_type": "execute_result"
    }
   ],
   "source": [
    "# Operação ==\n",
    "a==b #a é igual a b?"
   ]
  },
  {
   "cell_type": "code",
   "execution_count": 14,
   "id": "86c2fcd1-48de-4068-9d2e-7206653f4594",
   "metadata": {},
   "outputs": [
    {
     "data": {
      "text/plain": [
       "False"
      ]
     },
     "execution_count": 14,
     "metadata": {},
     "output_type": "execute_result"
    }
   ],
   "source": [
    "# Operação ><\n",
    "a>b #a é maior que b?"
   ]
  },
  {
   "cell_type": "code",
   "execution_count": 15,
   "id": "6764fa63-714d-4ee3-a309-fe7b62a73d98",
   "metadata": {},
   "outputs": [
    {
     "data": {
      "text/plain": [
       "False"
      ]
     },
     "execution_count": 15,
     "metadata": {},
     "output_type": "execute_result"
    }
   ],
   "source": [
    "# Operação !=\n",
    "a!=b #a é difeente de b?"
   ]
  },
  {
   "cell_type": "code",
   "execution_count": 16,
   "id": "0fc14a0e-2c9b-439c-ad60-c9df2b03c709",
   "metadata": {},
   "outputs": [
    {
     "data": {
      "text/plain": [
       "True"
      ]
     },
     "execution_count": 16,
     "metadata": {},
     "output_type": "execute_result"
    }
   ],
   "source": [
    "# Operação >= ou <=\n",
    "a>=b #a é maior ou igual a b?"
   ]
  },
  {
   "cell_type": "markdown",
   "id": "c40227db-8adc-4256-a5d4-cfe4a99bc52c",
   "metadata": {},
   "source": [
    "OPERAÇÕES MATEMÁTICAS"
   ]
  },
  {
   "cell_type": "code",
   "execution_count": 17,
   "id": "aeba634d-5e32-41e6-9294-c7875a443cbb",
   "metadata": {},
   "outputs": [
    {
     "data": {
      "text/plain": [
       "2.0"
      ]
     },
     "execution_count": 17,
     "metadata": {},
     "output_type": "execute_result"
    }
   ],
   "source": [
    "# Soma \n",
    "a+b"
   ]
  },
  {
   "cell_type": "code",
   "execution_count": 18,
   "id": "e1cb7f81-e340-40c2-a154-918543f038aa",
   "metadata": {},
   "outputs": [
    {
     "name": "stdout",
     "output_type": "stream",
     "text": [
      "2.0\n"
     ]
    }
   ],
   "source": [
    "# Soma e atribui valor\n",
    "ab = a+b\n",
    "print(ab)"
   ]
  },
  {
   "cell_type": "code",
   "execution_count": 19,
   "id": "a1c148d5-5b88-40b8-97bc-c977034d5d3b",
   "metadata": {},
   "outputs": [
    {
     "name": "stdout",
     "output_type": "stream",
     "text": [
      "Não use l como nome de variável\n",
      "1.0\n"
     ]
    }
   ],
   "source": [
    "# Multiplicação\n",
    "l = a*b # Não use l como variável\n",
    "print(\"Não use l como nome de variável\")\n",
    "j = a*b\n",
    "print(j)"
   ]
  },
  {
   "cell_type": "code",
   "execution_count": 20,
   "id": "7514de30-820e-435f-935f-8b36e602d20f",
   "metadata": {},
   "outputs": [
    {
     "data": {
      "text/plain": [
       "1.0"
      ]
     },
     "execution_count": 20,
     "metadata": {},
     "output_type": "execute_result"
    }
   ],
   "source": [
    "# Divisão\n",
    "a/b"
   ]
  },
  {
   "cell_type": "code",
   "execution_count": 21,
   "id": "718c6af0-f5d6-43bb-9d7b-6cdcb2d5ee47",
   "metadata": {},
   "outputs": [
    {
     "data": {
      "text/plain": [
       "25"
      ]
     },
     "execution_count": 21,
     "metadata": {},
     "output_type": "execute_result"
    }
   ],
   "source": [
    "# Potencia\n",
    "5**2 #5 elevado ao quadrado"
   ]
  },
  {
   "cell_type": "code",
   "execution_count": 22,
   "id": "f33530ee-f358-42cb-8042-f7f12d30bd70",
   "metadata": {},
   "outputs": [
    {
     "data": {
      "text/plain": [
       "22026.465794806718"
      ]
     },
     "execution_count": 22,
     "metadata": {},
     "output_type": "execute_result"
    }
   ],
   "source": [
    "# Operações matemáticas com a bibliotéca math\n",
    "import math #importa algumas operacoes matematicas do python\n",
    "\n",
    "math.exp(10) #calcular o exponencial de 10"
   ]
  },
  {
   "cell_type": "code",
   "execution_count": 23,
   "id": "bad710f7-d611-4c7d-b43a-4b2b0def2c68",
   "metadata": {},
   "outputs": [
    {
     "data": {
      "text/plain": [
       "1.0"
      ]
     },
     "execution_count": 23,
     "metadata": {},
     "output_type": "execute_result"
    }
   ],
   "source": [
    "math.exp(0) #exponencial de 0"
   ]
  },
  {
   "cell_type": "code",
   "execution_count": 24,
   "id": "20d4c373-8889-4ed3-a231-8718632c9532",
   "metadata": {},
   "outputs": [
    {
     "data": {
      "text/plain": [
       "2.718281828459045"
      ]
     },
     "execution_count": 24,
     "metadata": {},
     "output_type": "execute_result"
    }
   ],
   "source": [
    "math.exp(a) #a=1"
   ]
  },
  {
   "cell_type": "code",
   "execution_count": 25,
   "id": "4c84ed65-46b3-4991-b75b-c38d5b29caa4",
   "metadata": {},
   "outputs": [
    {
     "data": {
      "text/plain": [
       "4.5399929762484854e-05"
      ]
     },
     "execution_count": 25,
     "metadata": {},
     "output_type": "execute_result"
    }
   ],
   "source": [
    "math.exp(-10)"
   ]
  },
  {
   "cell_type": "code",
   "execution_count": 26,
   "id": "e4362741-0cba-4559-bb63-c9ea34341b5d",
   "metadata": {},
   "outputs": [
    {
     "data": {
      "text/plain": [
       "0.0"
      ]
     },
     "execution_count": 26,
     "metadata": {},
     "output_type": "execute_result"
    }
   ],
   "source": [
    "import math as mt #em vez de escrever math sempre, podemos escrever apenas mt\n",
    "mt.log(c)"
   ]
  },
  {
   "cell_type": "code",
   "execution_count": 27,
   "id": "a5d27717-bdd4-40e7-88a3-9910873b6272",
   "metadata": {},
   "outputs": [
    {
     "data": {
      "text/plain": [
       "2.0"
      ]
     },
     "execution_count": 27,
     "metadata": {},
     "output_type": "execute_result"
    }
   ],
   "source": [
    "mt.log10(100) #calcular o log de 100 na base 10"
   ]
  },
  {
   "cell_type": "markdown",
   "id": "643cfedf-fa12-4059-967b-03500974e533",
   "metadata": {},
   "source": [
    "LISTAS"
   ]
  },
  {
   "cell_type": "code",
   "execution_count": 28,
   "id": "efa2de94-044b-42a2-b2ac-f4083b657500",
   "metadata": {},
   "outputs": [
    {
     "name": "stdout",
     "output_type": "stream",
     "text": [
      "[1, 2, 3]\n"
     ]
    }
   ],
   "source": [
    "myFirstList = [1,2,3] #criando lista\n",
    "print(myFirstList)"
   ]
  },
  {
   "cell_type": "code",
   "execution_count": 29,
   "id": "fac2d3ab-7f04-46f5-8a1b-abe57a63b33f",
   "metadata": {},
   "outputs": [
    {
     "data": {
      "text/plain": [
       "False"
      ]
     },
     "execution_count": 29,
     "metadata": {},
     "output_type": "execute_result"
    }
   ],
   "source": [
    "myFirstList==a #lista é igual a a?"
   ]
  },
  {
   "cell_type": "code",
   "execution_count": 30,
   "id": "7a48227e-fa31-43f6-8d71-50759347f19c",
   "metadata": {},
   "outputs": [
    {
     "name": "stdout",
     "output_type": "stream",
     "text": [
      "[1, 1, 'c']\n"
     ]
    }
   ],
   "source": [
    "mySecList = [1,a,'c'] #string e numeros na lista é aceito\n",
    "print(mySecList)"
   ]
  },
  {
   "cell_type": "code",
   "execution_count": 31,
   "id": "bded44e5-5a6f-40cf-b184-21e9d7cd0444",
   "metadata": {},
   "outputs": [
    {
     "data": {
      "text/plain": [
       "list"
      ]
     },
     "execution_count": 31,
     "metadata": {},
     "output_type": "execute_result"
    }
   ],
   "source": [
    "type(mySecList) #\"tipo\" da variavel lista"
   ]
  },
  {
   "cell_type": "code",
   "execution_count": 32,
   "id": "f8588e6d-5a81-47ef-8921-d4c7a86d530e",
   "metadata": {},
   "outputs": [
    {
     "data": {
      "text/plain": [
       "str"
      ]
     },
     "execution_count": 32,
     "metadata": {},
     "output_type": "execute_result"
    }
   ],
   "source": [
    "type(mySecList[2]) #\"\"tipo\" do elemento 2 da lista (lembrando que o primeiro elemento é o 0)"
   ]
  },
  {
   "cell_type": "code",
   "execution_count": 33,
   "id": "9370f182-181e-4df8-8f28-3c390b7d0573",
   "metadata": {},
   "outputs": [
    {
     "data": {
      "text/plain": [
       "int"
      ]
     },
     "execution_count": 33,
     "metadata": {},
     "output_type": "execute_result"
    }
   ],
   "source": [
    "type(mySecList[1])"
   ]
  },
  {
   "cell_type": "markdown",
   "id": "cd2bab84-7e1f-4937-8b92-c386a671c53b",
   "metadata": {},
   "source": [
    "CAMINHOS = PATH"
   ]
  },
  {
   "cell_type": "code",
   "execution_count": 34,
   "id": "5cee6374-0299-4e3a-8331-807db6d3deea",
   "metadata": {},
   "outputs": [
    {
     "name": "stdout",
     "output_type": "stream",
     "text": [
      "C:\\Users\\usuario\\OneDrive\\Documentos\\GitHub\\ENS410064\n"
     ]
    }
   ],
   "source": [
    "path = r\"C:\\Users\\usuario\\OneDrive\\Documentos\\GitHub\\ENS410064\" #caminho \n",
    "print(path)"
   ]
  },
  {
   "cell_type": "code",
   "execution_count": 36,
   "id": "393d6f73-0a09-4583-962a-fe39f7a165ae",
   "metadata": {},
   "outputs": [
    {
     "data": {
      "text/plain": [
       "['.git',\n",
       " '.ipynb_checkpoints',\n",
       " 'Jade Grijo.md',\n",
       " 'jade nome.ipynb',\n",
       " 'notebook.txt',\n",
       " 'pyEnv.gitignore.txt',\n",
       " 'Untitled.ipynb',\n",
       " 'venv']"
      ]
     },
     "execution_count": 36,
     "metadata": {},
     "output_type": "execute_result"
    }
   ],
   "source": [
    "# Listar arquivos na pasta\n",
    "import os #listando todos os arquivos da pasta do path dado anteriormente\n",
    "os.listdir(path)"
   ]
  },
  {
   "cell_type": "code",
   "execution_count": 37,
   "id": "fd5ec980-a8d3-4b1e-b752-9c5769c4b9fb",
   "metadata": {},
   "outputs": [
    {
     "data": {
      "text/plain": [
       "'.git'"
      ]
     },
     "execution_count": 37,
     "metadata": {},
     "output_type": "execute_result"
    }
   ],
   "source": [
    "# Selecionar primeiro arquivo listado\n",
    "os.listdir(path)[0] #apresentando o primeiro elemento/arquivo da pasta\n"
   ]
  },
  {
   "cell_type": "code",
   "execution_count": 38,
   "id": "2ed6f91e-2824-4751-a96f-5241fd237cd1",
   "metadata": {},
   "outputs": [
    {
     "data": {
      "text/plain": [
       "'C:\\\\Users\\\\usuario\\\\OneDrive\\\\Documentos\\\\GitHub\\\\ENS410064/.git'"
      ]
     },
     "execution_count": 38,
     "metadata": {},
     "output_type": "execute_result"
    }
   ],
   "source": [
    "# Concatenando caminhos\n",
    "path+\"/\"+os.listdir(path)[0] "
   ]
  },
  {
   "cell_type": "code",
   "execution_count": 39,
   "id": "a8ca45f2-e4ff-46b7-8544-84634ee98c79",
   "metadata": {},
   "outputs": [
    {
     "data": {
      "text/plain": [
       "['COMMIT_EDITMSG',\n",
       " 'config',\n",
       " 'description',\n",
       " 'FETCH_HEAD',\n",
       " 'HEAD',\n",
       " 'hooks',\n",
       " 'index',\n",
       " 'info',\n",
       " 'logs',\n",
       " 'objects',\n",
       " 'packed-refs',\n",
       " 'refs']"
      ]
     },
     "execution_count": 39,
     "metadata": {},
     "output_type": "execute_result"
    }
   ],
   "source": [
    "# Listando caminho concatenado\n",
    "os.listdir(path+\"/\"+os.listdir(path)[0])"
   ]
  },
  {
   "cell_type": "code",
   "execution_count": 40,
   "id": "96096139-3bca-4ad3-8795-60a62e219c3c",
   "metadata": {},
   "outputs": [
    {
     "data": {
      "text/plain": [
       "'C:\\\\Users\\\\usuario\\\\OneDrive\\\\Documentos\\\\GitHub\\\\ENS410064\\\\venv\\\\Scripts'"
      ]
     },
     "execution_count": 40,
     "metadata": {},
     "output_type": "execute_result"
    }
   ],
   "source": [
    "# Diretório que estou trababalhando\n",
    "os.getcwd() #get current workind directory / pegar o diretorio de trabalho atual"
   ]
  },
  {
   "cell_type": "code",
   "execution_count": 41,
   "id": "a8dff970-0d0b-4ced-bdd0-34c488e9dcb9",
   "metadata": {},
   "outputs": [],
   "source": [
    "# Mudo de diretório para o caminho \n",
    "os.chdir('C:\\\\Users\\\\usuario\\\\OneDrive\\\\Documentos\\\\') #muda o diretorio da onde o python vai procurar"
   ]
  },
  {
   "cell_type": "code",
   "execution_count": 42,
   "id": "10f12075-923e-4649-a46f-8bb0666f34c8",
   "metadata": {},
   "outputs": [
    {
     "data": {
      "text/plain": [
       "'C:\\\\Users\\\\usuario\\\\OneDrive\\\\Documentos'"
      ]
     },
     "execution_count": 42,
     "metadata": {},
     "output_type": "execute_result"
    }
   ],
   "source": [
    "os.getcwd() #caminho do novo diretorio mudado"
   ]
  },
  {
   "cell_type": "code",
   "execution_count": 43,
   "id": "f809efd8-e2f1-42ad-9147-9603cabda400",
   "metadata": {},
   "outputs": [
    {
     "name": "stdout",
     "output_type": "stream",
     "text": [
      "diretório já existe\n"
     ]
    }
   ],
   "source": [
    "# Criando diretório\n",
    "new_path = os.getcwd()+'/test' #obtem o diretorio de trabalho atual e concatena o /test\n",
    "\n",
    "if os.path.isdir(new_path): #verifica de o novo diretorio ja existe no computador\n",
    "    print('diretório já existe')\n",
    "else:\n",
    "    print('Criando diretório '+new_path)\n",
    "    os.mkdir(new_path) #cria o novo diretorio (so acontece caso o diretorio ainda nao tenha sido criado)"
   ]
  },
  {
   "cell_type": "code",
   "execution_count": 44,
   "id": "f76d79f4-53ce-4cb2-b0e7-d1273b6945ab",
   "metadata": {},
   "outputs": [
    {
     "name": "stdout",
     "output_type": "stream",
     "text": [
      "Criando diretório C:\\Users\\usuario\\OneDrive\\Documentos/test2\n"
     ]
    }
   ],
   "source": [
    "# Criando diretório\n",
    "new_path = os.getcwd()+'/test2' #obtem o diretorio de trabalho atual e concatena o /test2\n",
    "\n",
    "if os.path.isdir(new_path): #verifica se o diretório existe\n",
    "    print('diretório já existe')\n",
    "    # Criando um arquivo de texto\n",
    "    with open(new_path+\"/copy.txt\", \"w\") as file: #cria um novo arquivo de texto dentro do diretorio test2 \n",
    "        file.write(\"Your text goes here\") #esrceve o que esta entre \"\" no arquivo\n",
    "else:\n",
    "    print('Criando diretório '+new_path) #se nao, cria um novo parth com o test2\n",
    "    os.mkdir(new_path)\n",
    "    with open(new_path+\"/copy.txt\", \"w\") as file:\n",
    "        file.write(\"Your text goes here\")"
   ]
  },
  {
   "cell_type": "code",
   "execution_count": 45,
   "id": "f023fd07-3c98-4c4b-a3ef-d11682dd16a3",
   "metadata": {},
   "outputs": [
    {
     "data": {
      "text/plain": [
       "numpy.ndarray"
      ]
     },
     "execution_count": 45,
     "metadata": {},
     "output_type": "execute_result"
    }
   ],
   "source": [
    "import numpy as np\n",
    "# Criando uma variável numpy\n",
    "n = np.array(0) #cria matriz unidimensional contendo apenas o 0\n",
    "type(n)"
   ]
  },
  {
   "cell_type": "code",
   "execution_count": 46,
   "id": "91e2eb8a-02d0-465e-a826-fc25f45ce85e",
   "metadata": {},
   "outputs": [
    {
     "name": "stdout",
     "output_type": "stream",
     "text": [
      "[ 1  2  3 10 20 55]\n"
     ]
    }
   ],
   "source": [
    "# Criando uma variável numpy a partir de uma lista\n",
    "myThirdList=[1,2,3,10,20,55] #cria uma lista\n",
    "n = np.array(myThirdList) #converte a lista em uma matriz\n",
    "print(n)"
   ]
  },
  {
   "cell_type": "code",
   "execution_count": 47,
   "id": "5b4270c2-a2a2-4563-a9d8-050a296370a8",
   "metadata": {},
   "outputs": [
    {
     "name": "stdout",
     "output_type": "stream",
     "text": [
      "[[0.93194459 0.55510681 0.62082434 0.40782042 0.02442058 0.60131949\n",
      "  0.95687201 0.06308303 0.61193877 0.26627462]\n",
      " [0.58923304 0.76720525 0.73534649 0.74924428 0.04679003 0.33719934\n",
      "  0.42896462 0.12432601 0.09449776 0.62733365]\n",
      " [0.06129757 0.2860038  0.46867038 0.97063621 0.11023041 0.75745385\n",
      "  0.41071451 0.89336109 0.97242777 0.81675326]\n",
      " [0.81917598 0.05337619 0.37206785 0.44026103 0.35702474 0.38802243\n",
      "  0.32700951 0.06861785 0.19548856 0.97607844]\n",
      " [0.49809909 0.52365551 0.14351033 0.75145427 0.30021204 0.35725936\n",
      "  0.47417709 0.04769874 0.93243112 0.95645172]\n",
      " [0.39348049 0.13963357 0.58078258 0.47495361 0.56795606 0.65376536\n",
      "  0.77528045 0.71662858 0.8703862  0.22041646]\n",
      " [0.99745117 0.36737211 0.1505389  0.68759392 0.51992425 0.23616093\n",
      "  0.36753805 0.0756009  0.8759096  0.12460192]\n",
      " [0.32776877 0.47272655 0.78282535 0.23122522 0.83517628 0.78367167\n",
      "  0.09160208 0.77820881 0.75445023 0.52153046]\n",
      " [0.83559763 0.24277441 0.86924155 0.30338722 0.49179391 0.06359149\n",
      "  0.08368447 0.53021736 0.64335678 0.63427789]\n",
      " [0.07509875 0.00980483 0.94573029 0.56597091 0.28874343 0.87521626\n",
      "  0.91044694 0.35568797 0.54365304 0.23331031]]\n",
      "(10, 10)\n"
     ]
    }
   ],
   "source": [
    "# Criando uma matriz de 10x10 de números aleatórios entre 0 e 1\n",
    "n = np.random.rand(10,10) #cria matriz aleatória 10x10\n",
    "print(n)\n",
    "# Dimensões da matrix\n",
    "print(n.shape) #qual dimensão da matriz?"
   ]
  },
  {
   "cell_type": "code",
   "execution_count": 48,
   "id": "7b27e25a-2dd0-4a82-bb9c-0fffcd88bf11",
   "metadata": {},
   "outputs": [
    {
     "data": {
      "text/plain": [
       "array([0.93194459, 0.55510681, 0.62082434, 0.40782042, 0.02442058,\n",
       "       0.60131949, 0.95687201, 0.06308303, 0.61193877, 0.26627462])"
      ]
     },
     "execution_count": 48,
     "metadata": {},
     "output_type": "execute_result"
    }
   ],
   "source": [
    "# Acessando valores da matriz\n",
    "n[0,:] #acessando todas as colunas da linha de índice 0"
   ]
  },
  {
   "cell_type": "code",
   "execution_count": 49,
   "id": "1c28a031-b072-44e0-911b-e74fc655723a",
   "metadata": {},
   "outputs": [
    {
     "data": {
      "text/plain": [
       "array([0.93194459, 0.58923304, 0.06129757, 0.81917598, 0.49809909,\n",
       "       0.39348049, 0.99745117, 0.32776877, 0.83559763, 0.07509875])"
      ]
     },
     "execution_count": 49,
     "metadata": {},
     "output_type": "execute_result"
    }
   ],
   "source": [
    "n[:,0] #acessando todas as linhas da coluna de índice 0"
   ]
  },
  {
   "cell_type": "code",
   "execution_count": 50,
   "id": "c5ba0792-f6f3-4acb-a021-17ff6c106e3b",
   "metadata": {},
   "outputs": [
    {
     "data": {
      "text/plain": [
       "array([[0.55510681, 0.62082434, 0.40782042, 0.02442058],\n",
       "       [0.76720525, 0.73534649, 0.74924428, 0.04679003],\n",
       "       [0.2860038 , 0.46867038, 0.97063621, 0.11023041],\n",
       "       [0.05337619, 0.37206785, 0.44026103, 0.35702474],\n",
       "       [0.52365551, 0.14351033, 0.75145427, 0.30021204],\n",
       "       [0.13963357, 0.58078258, 0.47495361, 0.56795606],\n",
       "       [0.36737211, 0.1505389 , 0.68759392, 0.51992425],\n",
       "       [0.47272655, 0.78282535, 0.23122522, 0.83517628],\n",
       "       [0.24277441, 0.86924155, 0.30338722, 0.49179391],\n",
       "       [0.00980483, 0.94573029, 0.56597091, 0.28874343]])"
      ]
     },
     "execution_count": 50,
     "metadata": {},
     "output_type": "execute_result"
    }
   ],
   "source": [
    "n[:,1:5] #acessando todas as linhas e as colunas dos indices 1 ao 4 (incluindo)\n",
    "#: antes da virgula significa acessar todas as linhas\n",
    "#1:5 depois da virgulo significa acessas as colunas de 1 a 4, incluindo a 4"
   ]
  },
  {
   "cell_type": "code",
   "execution_count": 51,
   "id": "dcf296ec-5a27-47e4-b708-1926e2873b88",
   "metadata": {},
   "outputs": [
    {
     "data": {
      "text/plain": [
       "array([0.55510681, 0.62082434, 0.40782042, 0.02442058])"
      ]
     },
     "execution_count": 51,
     "metadata": {},
     "output_type": "execute_result"
    }
   ],
   "source": [
    "n[0,1:5] #acessando a primeira linha e as colunas de índice 1 a 4 (incluindo)"
   ]
  },
  {
   "cell_type": "code",
   "execution_count": 52,
   "id": "2fb1cfac-9424-4c18-9d81-299d86a81f37",
   "metadata": {},
   "outputs": [
    {
     "data": {
      "text/plain": [
       "0.26627461902662675"
      ]
     },
     "execution_count": 52,
     "metadata": {},
     "output_type": "execute_result"
    }
   ],
   "source": [
    "n[0,-1] #acessando o elemanto da primeira linha e da ultima coluna"
   ]
  },
  {
   "cell_type": "code",
   "execution_count": 53,
   "id": "87e69a0a-8ad6-4981-9fc6-4668b1331470",
   "metadata": {},
   "outputs": [
    {
     "data": {
      "text/plain": [
       "array([0.02442058, 0.60131949, 0.95687201, 0.06308303, 0.61193877])"
      ]
     },
     "execution_count": 53,
     "metadata": {},
     "output_type": "execute_result"
    }
   ],
   "source": [
    "n[0,4:-1] #acessando o elemnto da primeira linha e quinta coluna, ate o penultimo elemento linha"
   ]
  },
  {
   "cell_type": "code",
   "execution_count": 54,
   "id": "dbc682c3-8189-4fb6-8eb6-62d9eb69ddb0",
   "metadata": {},
   "outputs": [
    {
     "data": {
      "text/plain": [
       "array([0.02442058, 0.60131949, 0.95687201, 0.06308303, 0.61193877,\n",
       "       0.26627462])"
      ]
     },
     "execution_count": 54,
     "metadata": {},
     "output_type": "execute_result"
    }
   ],
   "source": [
    "n[0,4:] #seleciona os elementos da primeira linha da quinta coluna ate o final da linha"
   ]
  },
  {
   "cell_type": "code",
   "execution_count": 55,
   "id": "fd1f3446-68b7-42c4-971c-0d7ca684de57",
   "metadata": {},
   "outputs": [
    {
     "name": "stdout",
     "output_type": "stream",
     "text": [
      "[[ 1.53895599  1.02084319  1.13273081  0.71250957 -2.10289106  1.10080903\n",
      "   1.56535227 -1.15386552  1.11831485  0.28621081]\n",
      " [ 1.08050439  1.344437    1.30202443  1.3207477  -1.45264714  0.52235691\n",
      "   0.76305709 -0.47541011 -0.74974119  1.14316117]\n",
      " [-1.18257714  0.35768772  0.85158234  1.57963438 -0.59574459  1.33164524\n",
      "   0.719581    1.49667348  1.58147843  1.40701968]\n",
      " [ 1.40998156 -1.32095263  0.62075887  0.78905042  0.57948772  0.66274579\n",
      "   0.49167187 -1.06976471 -0.02281548  1.58522559]\n",
      " [ 0.91248166  0.96251668 -0.33191033  1.32369298  0.40617167  0.58014465\n",
      "   0.8632635  -1.43341238  1.53947792  1.56491295]\n",
      " [ 0.67671412 -0.35929576  1.0660591   0.86489977  1.04372669  1.18443114\n",
      "   1.35490747  1.27624031  1.47061966  0.09720141]\n",
      " [ 1.60688583  0.6080579  -0.28409583  1.23488107  0.95536577  0.16619613\n",
      "   0.60850949 -0.97284913  1.47694552 -0.47319337]\n",
      " [ 0.49399102  0.86019973  1.36459225  0.14507485  1.42932545  1.36567277\n",
      "  -0.78086342  1.35867751  1.32767194  0.95845031]\n",
      " [ 1.42982983  0.19381528  1.46930368  0.41669257  0.89974238 -1.14583769\n",
      "  -0.87126393  0.97496966  1.16838207  1.15416981]\n",
      " [-0.97951347 -3.015442    1.55364006  1.04022532  0.36722114  1.47615365\n",
      "   1.51561825  0.57573649  0.99999389  0.154052  ]]\n"
     ]
    }
   ],
   "source": [
    "an = np.log(n*5) #calcula o log de cada elemento da matriz multiplicado por 5\n",
    "print(an) "
   ]
  },
  {
   "cell_type": "code",
   "execution_count": null,
   "id": "e511bd46-c97b-4ac6-8fb8-2af2a49fe186",
   "metadata": {},
   "outputs": [],
   "source": []
  }
 ],
 "metadata": {
  "kernelspec": {
   "display_name": "Python 3 (ipykernel)",
   "language": "python",
   "name": "python3"
  },
  "language_info": {
   "codemirror_mode": {
    "name": "ipython",
    "version": 3
   },
   "file_extension": ".py",
   "mimetype": "text/x-python",
   "name": "python",
   "nbconvert_exporter": "python",
   "pygments_lexer": "ipython3",
   "version": "3.12.2"
  }
 },
 "nbformat": 4,
 "nbformat_minor": 5
}
